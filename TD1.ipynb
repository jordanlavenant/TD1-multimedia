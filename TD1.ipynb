{
 "cells": [
  {
   "cell_type": "code",
   "execution_count": 23,
   "metadata": {},
   "outputs": [],
   "source": [
    "import svgwrite"
   ]
  },
  {
   "cell_type": "code",
   "execution_count": 24,
   "metadata": {},
   "outputs": [
    {
     "data": {
      "image/svg+xml": [
       "<svg baseProfile=\"full\" height=\"500\" version=\"1.1\" width=\"500\" xmlns=\"http://www.w3.org/2000/svg\" xmlns:ev=\"http://www.w3.org/2001/xml-events\" xmlns:xlink=\"http://www.w3.org/1999/xlink\"><defs /><polygon fill=\"#0000FF\" opacity=\"0.7\" points=\"0,0 400,0 200,300\" stroke=\"#000000\" /></svg>"
      ],
      "text/plain": [
       "<svgwrite.drawing.Drawing at 0x7e7039f4f2b0>"
      ]
     },
     "metadata": {},
     "output_type": "display_data"
    }
   ],
   "source": [
    "dessin  = svgwrite.Drawing('assets/exercice_1.svg', size=(500,500))\n",
    "\n",
    "triangle=[\n",
    "    (0,0),\n",
    "    (400,0),\n",
    "    (200,300)\n",
    "  ]\n",
    "\n",
    "dessin.add(dessin.polygon(triangle, fill='#0000FF',\\\n",
    "                          stroke=\"#000000\", opacity=0.7 ))\n",
    "\n",
    "dessin.save()\n",
    "display(dessin)"
   ]
  },
  {
   "cell_type": "code",
   "execution_count": 25,
   "metadata": {},
   "outputs": [
    {
     "data": {
      "image/svg+xml": [
       "<svg baseProfile=\"full\" height=\"300\" version=\"1.1\" width=\"300\" xmlns=\"http://www.w3.org/2000/svg\" xmlns:ev=\"http://www.w3.org/2001/xml-events\" xmlns:xlink=\"http://www.w3.org/1999/xlink\"><defs /><polygon fill=\"#00FF00\" opacity=\"0.7\" points=\"0,0 200,0 200,200 0,200\" stroke=\"#000000\" /></svg>"
      ],
      "text/plain": [
       "<svgwrite.drawing.Drawing at 0x7e7039f4fac0>"
      ]
     },
     "metadata": {},
     "output_type": "display_data"
    }
   ],
   "source": [
    "dessin  = svgwrite.Drawing('assets/exercice_2.svg', size=(300,300))\n",
    "\n",
    "carre = [\n",
    "    (0,0),\n",
    "    (200,0),\n",
    "    (200,200),\n",
    "    (0,200)\n",
    "  ]\n",
    "\n",
    "dessin.add(dessin.polygon(carre, fill='#00FF00',\\\n",
    "                          stroke=\"#000000\", opacity=0.7 ))\n",
    "\n",
    "dessin.save()\n",
    "display(dessin)"
   ]
  },
  {
   "cell_type": "code",
   "execution_count": 26,
   "metadata": {},
   "outputs": [],
   "source": [
    "def translater(input, vectTrans):\n",
    "  x,y=input\n",
    "  tx,ty=vectTrans\n",
    "  return (x+tx,y+ty)"
   ]
  },
  {
   "cell_type": "code",
   "execution_count": 27,
   "metadata": {},
   "outputs": [
    {
     "data": {
      "image/svg+xml": [
       "<svg baseProfile=\"full\" height=\"400\" version=\"1.1\" width=\"400\" xmlns=\"http://www.w3.org/2000/svg\" xmlns:ev=\"http://www.w3.org/2001/xml-events\" xmlns:xlink=\"http://www.w3.org/1999/xlink\"><defs /><polygon fill=\"#FF0000\" opacity=\"0.7\" points=\"100,100 300,100 300,300 100,300\" stroke=\"#000000\" /></svg>"
      ],
      "text/plain": [
       "<svgwrite.drawing.Drawing at 0x7e703a9e3160>"
      ]
     },
     "metadata": {},
     "output_type": "display_data"
    }
   ],
   "source": [
    "dessin = svgwrite.Drawing('assets/exercice_carre_trans.svg', size=(400,400))\n",
    "\n",
    "carre=[\n",
    "    (0,0),\n",
    "    (200,0),\n",
    "    (200,200),\n",
    "    (0,200)\n",
    "  ]\n",
    "\n",
    "trans=(100,100)\n",
    "\n",
    "carre_trans=[translater(sommet,trans) for sommet in carre]\n",
    "\n",
    "dessin.add(dessin.polygon(carre_trans, fill='#FF0000',stroke=\"#000000\", opacity=0.7))\n",
    "\n",
    "dessin.save()\n",
    "display(dessin)"
   ]
  },
  {
   "cell_type": "code",
   "execution_count": 28,
   "metadata": {},
   "outputs": [],
   "source": [
    "import math\n",
    "\n",
    "def rotation10(angle):\n",
    "  return (math.cos(angle), math.sin(angle))\n",
    "\n",
    "def rotation01(angle):\n",
    "  return (-math.sin(angle), math.cos(angle))"
   ]
  },
  {
   "cell_type": "code",
   "execution_count": 29,
   "metadata": {},
   "outputs": [],
   "source": [
    "def rotation(point, angle):\n",
    "  x, y = point\n",
    "  v1x, v1y = rotation10(angle)\n",
    "  v2x, v2y = rotation01(angle)\n",
    "\n",
    "  return (x*v1x + y*v2x, x*v1y + y*v2y)"
   ]
  },
  {
   "cell_type": "code",
   "execution_count": 30,
   "metadata": {},
   "outputs": [
    {
     "data": {
      "image/svg+xml": [
       "<svg baseProfile=\"full\" height=\"400\" version=\"1.1\" width=\"400\" xmlns=\"http://www.w3.org/2000/svg\" xmlns:ev=\"http://www.w3.org/2001/xml-events\" xmlns:xlink=\"http://www.w3.org/1999/xlink\"><defs /><polygon fill=\"#FF0000\" opacity=\"0.7\" points=\"36.602540378443884,136.60254037844388 209.8076211353316,236.60254037844385 109.80762113533163,409.8076211353316 -63.397459621556095,309.8076211353316\" stroke=\"#000000\" /><polygon fill=\"#00FF00\" opacity=\"0.2\" points=\"100,100 300,100 300,300 100,300\" stroke=\"#000000\" /></svg>"
      ],
      "text/plain": [
       "<svgwrite.drawing.Drawing at 0x7e7039f4f700>"
      ]
     },
     "metadata": {},
     "output_type": "display_data"
    }
   ],
   "source": [
    "dessin = svgwrite.Drawing('assets/exercice_carre_rotation.svg', size=(400,400))\n",
    "\n",
    "carre=[\n",
    "    (100,100),\n",
    "    (300,100),\n",
    "    (300,300),\n",
    "    (100,300)\n",
    "  ]\n",
    "\n",
    "angle=math.pi/6\n",
    "\n",
    "carre_rotation = [rotation(sommet,angle) for sommet in carre]\n",
    "\n",
    "dessin.add(dessin.polygon(carre_rotation, fill='#FF0000',stroke=\"#000000\", opacity=0.7))\n",
    "dessin.add(dessin.polygon(carre, fill='#00FF00',stroke=\"#000000\", opacity=0.2))\n",
    "\n",
    "dessin.save()\n",
    "display(dessin)"
   ]
  },
  {
   "cell_type": "code",
   "execution_count": 31,
   "metadata": {},
   "outputs": [],
   "source": [
    "def prodMatVect(Mat, Vect ):\n",
    "  x, y = Vect\n",
    "  ( (a11,a12), (a21, a22) ) = Mat\n",
    "\n",
    "  x2 = a11 * x + a12 * y\n",
    "  y2 = a21 * x + a22 * y\n",
    "\n",
    "  return (x2,y2)\n",
    "\n",
    "\n",
    "def Matrotation(angle):\n",
    "  return ( (math.cos(angle), -math.sin(angle)), (math.sin(angle), math.cos(angle)) )"
   ]
  },
  {
   "cell_type": "code",
   "execution_count": 39,
   "metadata": {},
   "outputs": [
    {
     "data": {
      "image/svg+xml": [
       "<svg baseProfile=\"full\" height=\"400\" version=\"1.1\" width=\"400\" xmlns=\"http://www.w3.org/2000/svg\" xmlns:ev=\"http://www.w3.org/2001/xml-events\" xmlns:xlink=\"http://www.w3.org/1999/xlink\"><defs /><polygon fill=\"#FF0000\" opacity=\"0.7\" points=\"122.12317420824743,239.68022466674205 283.9265730832369,357.2372751252367 166.3695226247423,519.0406740002262 4.566123749752805,401.48362354173156\" stroke=\"#000000\" /></svg>"
      ],
      "text/plain": [
       "<svgwrite.drawing.Drawing at 0x7e7039f54d00>"
      ]
     },
     "metadata": {},
     "output_type": "display_data"
    }
   ],
   "source": [
    "dessin = svgwrite.Drawing('assets/exercice_prod_mat_vect.svg', size=(400,400))\n",
    "\n",
    "carre=[\n",
    "    (100,100),\n",
    "    (300,100),\n",
    "    (300,300),\n",
    "    (100,300)\n",
    "  ]\n",
    "\n",
    "angle=math.pi/5\n",
    "\n",
    "matRot=Matrotation(angle)\n",
    "\n",
    "carre_out=[translater(prodMatVect(matRot,sommet),trans) for sommet in carre]\n",
    "\n",
    "dessin.add(dessin.polygon(carre_out, fill='#FF0000', stroke=\"#000000\", opacity=0.7))\n",
    "\n",
    "dessin.save()\n",
    "display(dessin)"
   ]
  }
 ],
 "metadata": {
  "kernelspec": {
   "display_name": "Python 3",
   "language": "python",
   "name": "python3"
  },
  "language_info": {
   "codemirror_mode": {
    "name": "ipython",
    "version": 3
   },
   "file_extension": ".py",
   "mimetype": "text/x-python",
   "name": "python",
   "nbconvert_exporter": "python",
   "pygments_lexer": "ipython3",
   "version": "3.10.12"
  }
 },
 "nbformat": 4,
 "nbformat_minor": 2
}
