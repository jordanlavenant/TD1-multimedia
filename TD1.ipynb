{
 "cells": [
  {
   "cell_type": "code",
   "execution_count": 69,
   "metadata": {},
   "outputs": [],
   "source": [
    "import svgwrite"
   ]
  },
  {
   "cell_type": "code",
   "execution_count": 70,
   "metadata": {},
   "outputs": [
    {
     "data": {
      "image/svg+xml": [
       "<svg baseProfile=\"full\" height=\"500\" version=\"1.1\" width=\"500\" xmlns=\"http://www.w3.org/2000/svg\" xmlns:ev=\"http://www.w3.org/2001/xml-events\" xmlns:xlink=\"http://www.w3.org/1999/xlink\"><defs /><polygon fill=\"#0000FF\" opacity=\"0.7\" points=\"0,0 400,0 200,300\" stroke=\"#000000\" /></svg>"
      ],
      "text/plain": [
       "<svgwrite.drawing.Drawing at 0x7fe86cd8c970>"
      ]
     },
     "metadata": {},
     "output_type": "display_data"
    }
   ],
   "source": [
    "dessin  = svgwrite.Drawing('assets/exercice_1.svg', size=(500,500))\n",
    "\n",
    "triangle=[\n",
    "    (0,0),\n",
    "    (400,0),\n",
    "    (200,300)\n",
    "  ]\n",
    "\n",
    "dessin.add(dessin.polygon(triangle, fill='#0000FF',\\\n",
    "                          stroke=\"#000000\", opacity=0.7 ))\n",
    "\n",
    "dessin.save()\n",
    "display(dessin)"
   ]
  },
  {
   "cell_type": "code",
   "execution_count": 152,
   "metadata": {},
   "outputs": [
    {
     "data": {
      "image/svg+xml": [
       "<svg baseProfile=\"full\" height=\"300\" version=\"1.1\" width=\"300\" xmlns=\"http://www.w3.org/2000/svg\" xmlns:ev=\"http://www.w3.org/2001/xml-events\" xmlns:xlink=\"http://www.w3.org/1999/xlink\"><defs /><polygon fill=\"#00FF00\" opacity=\"0.7\" points=\"50.0,50.0 250.0,50.0 250.0,250.0 50.0,250.0\" stroke=\"#000000\" /></svg>"
      ],
      "text/plain": [
       "<svgwrite.drawing.Drawing at 0x7fe86cd9f1f0>"
      ]
     },
     "metadata": {},
     "output_type": "display_data"
    }
   ],
   "source": [
    "import svgwrite\n",
    "\n",
    "dessin = svgwrite.Drawing('assets/exercice_2.svg', size=(300,300))\n",
    "\n",
    "centre_x, centre_y = 150, 150\n",
    "size = 200\n",
    "\n",
    "carre = [\n",
    "    (centre_x - size / 2, centre_y - size / 2),\n",
    "    (centre_x + size / 2, centre_y - size / 2),\n",
    "    (centre_x + size / 2, centre_y + size / 2),\n",
    "    (centre_x - size / 2, centre_y + size / 2)\n",
    "]\n",
    "\n",
    "dessin.add(dessin.polygon(carre, fill='#00FF00', stroke=\"#000000\", opacity=0.7))\n",
    "\n",
    "dessin.save()\n",
    "display(dessin)"
   ]
  },
  {
   "cell_type": "code",
   "execution_count": 72,
   "metadata": {},
   "outputs": [],
   "source": [
    "def translater(input, vectTrans):\n",
    "  x,y=input\n",
    "  tx,ty=vectTrans\n",
    "  return (x+tx,y+ty)"
   ]
  },
  {
   "cell_type": "code",
   "execution_count": 73,
   "metadata": {},
   "outputs": [
    {
     "data": {
      "image/svg+xml": [
       "<svg baseProfile=\"full\" height=\"400\" version=\"1.1\" width=\"400\" xmlns=\"http://www.w3.org/2000/svg\" xmlns:ev=\"http://www.w3.org/2001/xml-events\" xmlns:xlink=\"http://www.w3.org/1999/xlink\"><defs /><polygon fill=\"#00FF00\" opacity=\"0.7\" points=\"100.0,100.0 300.0,100.0 300.0,300.0 100.0,300.0\" stroke=\"#000000\" /><polygon fill=\"#FF0000\" opacity=\"0.7\" points=\"25.0,150.0 225.0,150.0 225.0,350.0 25.0,350.0\" stroke=\"#000000\" /></svg>"
      ],
      "text/plain": [
       "<svgwrite.drawing.Drawing at 0x7fe86cd8ee30>"
      ]
     },
     "metadata": {},
     "output_type": "display_data"
    }
   ],
   "source": [
    "dessin = svgwrite.Drawing('assets/exercice_carre_trans.svg', size=(400,400))\n",
    "\n",
    "centre_x, centre_y = 200, 200\n",
    "size = 200\n",
    "\n",
    "carre = [\n",
    "    (centre_x - size / 2, centre_y - size / 2),\n",
    "    (centre_x + size / 2, centre_y - size / 2),\n",
    "    (centre_x + size / 2, centre_y + size / 2),\n",
    "    (centre_x - size / 2, centre_y + size / 2)\n",
    "]\n",
    "\n",
    "trans=(-75,50)\n",
    "\n",
    "carre_trans=[translater(sommet,trans) for sommet in carre]\n",
    "\n",
    "dessin.add(dessin.polygon(carre, fill='#00FF00',stroke=\"#000000\", opacity=0.7))\n",
    "dessin.add(dessin.polygon(carre_trans, fill='#FF0000',stroke=\"#000000\", opacity=0.7))\n",
    "\n",
    "dessin.save()\n",
    "display(dessin)"
   ]
  },
  {
   "cell_type": "code",
   "execution_count": 74,
   "metadata": {},
   "outputs": [],
   "source": [
    "import math\n",
    "\n",
    "def rotation10(angle):\n",
    "  return (math.cos(angle), math.sin(angle))\n",
    "\n",
    "def rotation01(angle):\n",
    "  return (-math.sin(angle), math.cos(angle))"
   ]
  },
  {
   "cell_type": "code",
   "execution_count": 130,
   "metadata": {},
   "outputs": [],
   "source": [
    "def rotation(point, angle):\n",
    "  x, y = point\n",
    "  v1x, v1y = rotation10(angle)\n",
    "  v2x, v2y = rotation01(angle)\n",
    "\n",
    "  return (x*v1x + y*v2x, x*v1y + y*v2y)"
   ]
  },
  {
   "cell_type": "code",
   "execution_count": 160,
   "metadata": {},
   "outputs": [
    {
     "data": {
      "image/svg+xml": [
       "<svg baseProfile=\"full\" height=\"400\" version=\"1.1\" width=\"400\" xmlns=\"http://www.w3.org/2000/svg\" xmlns:ev=\"http://www.w3.org/2001/xml-events\" xmlns:xlink=\"http://www.w3.org/1999/xlink\"><defs /><polygon fill=\"#FF0000\" opacity=\"0.7\" points=\"200.0,93.93398282201787 306.06601717798213,200.0 200.0,306.06601717798213 93.93398282201787,200.0\" stroke=\"#000000\" /><polygon fill=\"#00FF00\" opacity=\"0.2\" points=\"125.0,125.0 275.0,125.0 275.0,275.0 125.0,275.0\" stroke=\"#000000\" /></svg>"
      ],
      "text/plain": [
       "<svgwrite.drawing.Drawing at 0x7fe8635e4700>"
      ]
     },
     "metadata": {},
     "output_type": "display_data"
    }
   ],
   "source": [
    "dessin = svgwrite.Drawing('assets/exercice_carre_rotation.svg', size=(400,400))\n",
    "\n",
    "centre_x, centre_y = 0, 0\n",
    "size = 150\n",
    "\n",
    "carre = [\n",
    "    (centre_x - size / 2, centre_y - size / 2),\n",
    "    (centre_x + size / 2, centre_y - size / 2),\n",
    "    (centre_x + size / 2, centre_y + size / 2),\n",
    "    (centre_x - size / 2, centre_y + size / 2)\n",
    "]\n",
    "\n",
    "angle=math.pi/4\n",
    "\n",
    "trans = (200, 200)\n",
    "\n",
    "carre_rotation = [rotation(sommet,angle) for sommet in carre]\n",
    "\n",
    "new_carre = [translater(sommet, trans) for sommet in carre]\n",
    "new_carre_rotation = [translater(sommet, trans) for sommet in carre_rotation]\n",
    "\n",
    "dessin.add(dessin.polygon(new_carre_rotation, fill='#FF0000',stroke=\"#000000\", opacity=0.7))\n",
    "dessin.add(dessin.polygon(new_carre, fill='#00FF00',stroke=\"#000000\", opacity=0.2))\n",
    "\n",
    "dessin.save()\n",
    "display(dessin)"
   ]
  },
  {
   "cell_type": "code",
   "execution_count": 108,
   "metadata": {},
   "outputs": [],
   "source": [
    "def prodMatVect(Mat, Vect):\n",
    "  x, y = Vect\n",
    "  ( (a11,a12), (a21, a22) ) = Mat\n",
    "\n",
    "  x2 = a11 * x + a12 * y\n",
    "  y2 = a21 * x + a22 * y\n",
    "\n",
    "  return (x2,y2)\n",
    "\n",
    "\n",
    "def Matrotation(angle):\n",
    "  return ( (math.cos(angle), -math.sin(angle)), (math.sin(angle), math.cos(angle)) )"
   ]
  },
  {
   "cell_type": "code",
   "execution_count": 164,
   "metadata": {},
   "outputs": [
    {
     "data": {
      "image/svg+xml": [
       "<svg baseProfile=\"full\" height=\"400\" version=\"1.1\" width=\"400\" xmlns=\"http://www.w3.org/2000/svg\" xmlns:ev=\"http://www.w3.org/2001/xml-events\" xmlns:xlink=\"http://www.w3.org/1999/xlink\"><defs /><polygon fill=\"#FF0000\" opacity=\"0.7\" points=\"177.87682579175257,60.31977533325795 339.68022466674205,177.87682579175257 222.12317420824743,339.68022466674205 60.31977533325795,222.12317420824743\" stroke=\"#000000\" /></svg>"
      ],
      "text/plain": [
       "<svgwrite.drawing.Drawing at 0x7fe86cd8ca00>"
      ]
     },
     "metadata": {},
     "output_type": "display_data"
    }
   ],
   "source": [
    "dessin = svgwrite.Drawing('assets/exercice_prod_mat_vect.svg', size=(400,400))\n",
    "\n",
    "centre_x, centre_y = 0, 0\n",
    "size = 200\n",
    "\n",
    "carre = [\n",
    "    (centre_x - size / 2, centre_y - size / 2),\n",
    "    (centre_x + size / 2, centre_y - size / 2),\n",
    "    (centre_x + size / 2, centre_y + size / 2),\n",
    "    (centre_x - size / 2, centre_y + size / 2)\n",
    "]\n",
    "\n",
    "angle=math.pi/5\n",
    "\n",
    "trans = (200, 200)\n",
    "\n",
    "matRot=Matrotation(angle)\n",
    "\n",
    "carre_out=[prodMatVect(matRot,sommet) for sommet in carre]\n",
    "new_carre_out = [translater(sommet, trans) for sommet in carre_out]\n",
    "\n",
    "dessin.add(dessin.polygon(new_carre_out, fill='#FF0000', stroke=\"#000000\", opacity=0.7))\n",
    "\n",
    "dessin.save()\n",
    "display(dessin)"
   ]
  },
  {
   "cell_type": "code",
   "execution_count": 79,
   "metadata": {},
   "outputs": [],
   "source": [
    "def Matdilatation(coefDilatation):\n",
    "  return ((coefDilatation,0),(0, coefDilatation))"
   ]
  },
  {
   "cell_type": "code",
   "execution_count": 173,
   "metadata": {},
   "outputs": [
    {
     "data": {
      "image/svg+xml": [
       "<svg baseProfile=\"full\" height=\"200\" version=\"1.1\" width=\"900\" xmlns=\"http://www.w3.org/2000/svg\" xmlns:ev=\"http://www.w3.org/2001/xml-events\" xmlns:xlink=\"http://www.w3.org/1999/xlink\"><defs /><polygon fill=\"#0000FF\" opacity=\"0.7\" points=\"0.0,0.0 100.0,0.0 100.0,100.0 0.0,100.0\" stroke=\"#000000\" /><polygon fill=\"#0000FF\" opacity=\"0.7\" points=\"175.0,50.0 225.0,50.0 225.0,100.0 175.0,100.0\" stroke=\"#000000\" /><polygon fill=\"#0000FF\" opacity=\"0.7\" points=\"337.5,75.0 362.5,75.0 362.5,100.0 337.5,100.0\" stroke=\"#000000\" /><polygon fill=\"#0000FF\" opacity=\"0.7\" points=\"493.75,87.5 506.25,87.5 506.25,100.0 493.75,100.0\" stroke=\"#000000\" /><polygon fill=\"#0000FF\" opacity=\"0.7\" points=\"646.875,93.75 653.125,93.75 653.125,100.0 646.875,100.0\" stroke=\"#000000\" /><polygon fill=\"#0000FF\" opacity=\"0.7\" points=\"798.4375,96.875 801.5625,96.875 801.5625,100.0 798.4375,100.0\" stroke=\"#000000\" /></svg>"
      ],
      "text/plain": [
       "<svgwrite.drawing.Drawing at 0x7fe86353ca00>"
      ]
     },
     "metadata": {},
     "output_type": "display_data"
    }
   ],
   "source": [
    "dessin = svgwrite.Drawing('assets/question3.svg', size=(900,200))\n",
    "\n",
    "centre_x, centre_y = 0, 0\n",
    "size = 100\n",
    "\n",
    "carre = [\n",
    "    (centre_x - size / 2, centre_y - size / 2),\n",
    "    (centre_x + size / 2, centre_y - size / 2),\n",
    "    (centre_x + size / 2, centre_y + size / 2),\n",
    "    (centre_x - size / 2, centre_y + size / 2)\n",
    "]\n",
    "\n",
    "nb = 6\n",
    "coefDilatation=0.5\n",
    "\n",
    "trans = (50, 50)\n",
    "\n",
    "for i in range(nb):\n",
    "    matDil = Matdilatation(coefDilatation ** i)\n",
    "    x_translation = (size + size/2) * i\n",
    "    y_translation = size/2 - (size/2 * (coefDilatation ** i))\n",
    "    carre_out = [translater(prodMatVect(matDil, sommet), (x_translation, y_translation)) for sommet in carre]\n",
    "    new_carre_out = [translater(sommet, trans) for sommet in carre_out]\n",
    "    dessin.add(dessin.polygon(new_carre_out, fill='#0000FF', stroke=\"#000000\", opacity=0.7))\n",
    "\n",
    "\n",
    "dessin.save()\n",
    "display(dessin)"
   ]
  },
  {
   "cell_type": "code",
   "execution_count": 229,
   "metadata": {},
   "outputs": [
    {
     "data": {
      "image/svg+xml": [
       "<svg baseProfile=\"full\" height=\"400\" version=\"1.1\" width=\"400\" xmlns=\"http://www.w3.org/2000/svg\" xmlns:ev=\"http://www.w3.org/2001/xml-events\" xmlns:xlink=\"http://www.w3.org/1999/xlink\"><defs /><polygon fill=\"#0000FF\" opacity=\"0.7\" points=\"131.25,131.25 331.25,131.25 331.25,331.25 131.25,331.25\" stroke=\"#000000\" /><polygon fill=\"#0000FF\" opacity=\"0.7\" points=\"181.25,181.25 281.25,181.25 281.25,281.25 181.25,281.25\" stroke=\"#000000\" /><polygon fill=\"#0000FF\" opacity=\"0.7\" points=\"206.25,206.25 256.25,206.25 256.25,256.25 206.25,256.25\" stroke=\"#000000\" /><polygon fill=\"#0000FF\" opacity=\"0.7\" points=\"218.75,218.75 243.75,218.75 243.75,243.75 218.75,243.75\" stroke=\"#000000\" /></svg>"
      ],
      "text/plain": [
       "<svgwrite.drawing.Drawing at 0x7fe862101570>"
      ]
     },
     "metadata": {},
     "output_type": "display_data"
    }
   ],
   "source": [
    "dessin = svgwrite.Drawing('assets/question4.svg', size=(400,400))\n",
    "\n",
    "centre_x, centre_y = 0, 0\n",
    "size = 200\n",
    "\n",
    "carre = [\n",
    "    (centre_x - size / 2, centre_y - size / 2),\n",
    "    (centre_x + size / 2, centre_y - size / 2),\n",
    "    (centre_x + size / 2, centre_y + size / 2),\n",
    "    (centre_x - size / 2, centre_y + size / 2)\n",
    "]\n",
    "\n",
    "trans = (100, 100)\n",
    "nb = 4\n",
    "coefDilatation=0.5\n",
    "\n",
    "for i in range(nb):\n",
    "    matDil = Matdilatation(coefDilatation ** i)\n",
    "    carre_out = [translater(prodMatVect(matDil, sommet), (x_translation, y_translation)) for sommet in carre]\n",
    "    new_carre_out = [translater(sommet, trans) for sommet in carre_out]\n",
    "    dessin.add(dessin.polygon(new_carre_out, fill='#0000FF', stroke=\"#000000\", opacity=0.7))\n",
    "\n",
    "\n",
    "dessin.save()\n",
    "display(dessin)"
   ]
  },
  {
   "cell_type": "code",
   "execution_count": 230,
   "metadata": {},
   "outputs": [],
   "source": [
    "def prodMatMat(MatA, MatB):\n",
    "  ((a11, a12), (a21, a22)) = MatA\n",
    "  ((b11, b12), (b21, b22)) = MatB\n",
    "\n",
    "  return (\n",
    "    (a11 * b11 + a12 * b21, a11 * b12 + a12 * b22),\n",
    "    (a21 * b11 + a22 * b21, a21 * b12 + a22 * b22)\n",
    "  )"
   ]
  },
  {
   "cell_type": "code",
   "execution_count": null,
   "metadata": {},
   "outputs": [],
   "source": []
  },
  {
   "cell_type": "code",
   "execution_count": null,
   "metadata": {},
   "outputs": [],
   "source": []
  },
  {
   "cell_type": "code",
   "execution_count": 270,
   "metadata": {},
   "outputs": [
    {
     "data": {
      "image/svg+xml": [
       "<svg baseProfile=\"full\" height=\"200\" version=\"1.1\" width=\"1000\" xmlns=\"http://www.w3.org/2000/svg\" xmlns:ev=\"http://www.w3.org/2001/xml-events\" xmlns:xlink=\"http://www.w3.org/1999/xlink\"><defs /><polygon fill=\"#FF0000\" opacity=\"0.7\" points=\"50.0,50.0 150.0,50.0 150.0,150.0 50.0,150.0\" stroke=\"#000000\" /><polygon fill=\"#FF0000\" opacity=\"0.7\" points=\"84.64466094067262,38.76275643042055 181.23724356957945,64.64466094067262 155.35533905932738,161.23724356957945 58.76275643042055,135.35533905932738\" stroke=\"#000000\" /><polygon fill=\"#FF0000\" opacity=\"0.7\" points=\"121.69872981077806,31.69872981077806 208.30127018922195,81.69872981077806 158.30127018922195,168.30127018922195 71.69872981077806,118.30127018922194\" stroke=\"#000000\" /><polygon fill=\"#FF0000\" opacity=\"0.7\" points=\"160.0,29.289321881345245 230.71067811865476,100.0 160.0,170.71067811865476 89.28932188134524,100.0\" stroke=\"#000000\" /><polygon fill=\"#FF0000\" opacity=\"0.7\" points=\"198.30127018922192,31.69872981077806 248.30127018922195,118.30127018922192 161.69872981077808,168.30127018922195 111.69872981077806,81.69872981077808\" stroke=\"#000000\" /><polygon fill=\"#FF0000\" opacity=\"0.7\" points=\"235.35533905932738,38.76275643042054 261.23724356957945,135.35533905932738 164.64466094067262,161.23724356957945 138.76275643042055,64.64466094067264\" stroke=\"#000000\" /><polygon fill=\"#FF0000\" opacity=\"0.7\" points=\"270.0,50.0 270.0,150.0 170.0,150.0 170.0,50.0\" stroke=\"#000000\" /><polygon fill=\"#FF0000\" opacity=\"0.7\" points=\"301.23724356957945,64.64466094067262 275.3553390593274,161.23724356957945 178.76275643042055,135.35533905932738 204.64466094067262,38.76275643042055\" stroke=\"#000000\" /><polygon fill=\"#FF0000\" opacity=\"0.7\" points=\"328.3012701892219,81.69872981077805 278.30127018922195,168.30127018922192 191.69872981077808,118.30127018922195 241.69872981077805,31.698729810778076\" stroke=\"#000000\" /><polygon fill=\"#FF0000\" opacity=\"0.7\" points=\"350.71067811865476,100.0 280.0,170.71067811865476 209.28932188134524,100.0 280.0,29.289321881345245\" stroke=\"#000000\" /><polygon fill=\"#FF0000\" opacity=\"0.7\" points=\"368.30127018922195,118.30127018922191 281.6987298107781,168.30127018922195 231.69872981077805,81.69872981077809 318.3012701892219,31.69872981077806\" stroke=\"#000000\" /><polygon fill=\"#FF0000\" opacity=\"0.7\" points=\"381.23724356957945,135.35533905932738 284.6446609406726,161.23724356957945 258.76275643042055,64.64466094067264 355.3553390593274,38.76275643042054\" stroke=\"#000000\" /><polygon fill=\"#FF0000\" opacity=\"0.7\" points=\"390.0,150.0 290.0,150.0 290.0,50.00000000000001 390.0,49.99999999999999\" stroke=\"#000000\" /><polygon fill=\"#FF0000\" opacity=\"0.7\" points=\"395.35533905932743,161.23724356957945 298.76275643042055,135.3553390593274 324.64466094067257,38.762756430420566 421.23724356957945,64.6446609406726\" stroke=\"#000000\" /><polygon fill=\"#FF0000\" opacity=\"0.7\" points=\"398.30127018922195,168.30127018922192 311.6987298107781,118.30127018922195 361.69872981077805,31.698729810778076 448.3012701892219,81.69872981077805\" stroke=\"#000000\" /><polygon fill=\"#FF0000\" opacity=\"0.7\" points=\"400.00000000000006,170.71067811865476 329.28932188134524,100.00000000000003 399.99999999999994,29.289321881345245 470.71067811865476,99.99999999999997\" stroke=\"#000000\" /><polygon fill=\"#FF0000\" opacity=\"0.7\" points=\"401.6987298107781,168.30127018922195 351.69872981077805,81.6987298107781 438.3012701892219,31.69872981077806 488.30127018922195,118.3012701892219\" stroke=\"#000000\" /><polygon fill=\"#FF0000\" opacity=\"0.7\" points=\"404.6446609406727,161.23724356957948 378.7627564304205,64.64466094067268 475.3553390593273,38.76275643042052 501.2372435695795,135.35533905932732\" stroke=\"#000000\" /><polygon fill=\"#FF0000\" opacity=\"0.7\" points=\"410.0,150.0 410.0,50.00000000000001 510.0,49.99999999999999 510.0,150.0\" stroke=\"#000000\" /><polygon fill=\"#FF0000\" opacity=\"0.7\" points=\"418.76275643042055,135.3553390593274 444.64466094067257,38.762756430420566 541.2372435695794,64.6446609406726 515.3553390593274,161.23724356957945\" stroke=\"#000000\" /></svg>"
      ],
      "text/plain": [
       "<svgwrite.drawing.Drawing at 0x7fe862bdca90>"
      ]
     },
     "metadata": {},
     "output_type": "display_data"
    }
   ],
   "source": [
    "dessin = svgwrite.Drawing('assets/question5.svg', size=(1000,200))\n",
    "\n",
    "centre_x, centre_y = 0, 0\n",
    "size = 100\n",
    "\n",
    "carre = [\n",
    "    (centre_x - size / 2, centre_y - size / 2),\n",
    "    (centre_x + size / 2, centre_y - size / 2),\n",
    "    (centre_x + size / 2, centre_y + size / 2),\n",
    "    (centre_x - size / 2, centre_y + size / 2)\n",
    "]\n",
    "\n",
    "nb = 20\n",
    "rotation = math.pi/12\n",
    "decalage = 20\n",
    "\n",
    "for i in range(nb):\n",
    "    matRot = Matrotation(rotation * i)\n",
    "    carre_out = [prodMatVect(matRot, sommet) for sommet in carre]\n",
    "    new_carre_out = [translater(sommet, (100 + (decalage * i), 100)) for sommet in carre_out]\n",
    "    dessin.add(dessin.polygon(new_carre_out, fill='#FF0000', stroke=\"#000000\", opacity=0.7))\n",
    "\n",
    "dessin.save()\n",
    "display(dessin)"
   ]
  },
  {
   "cell_type": "code",
   "execution_count": 84,
   "metadata": {},
   "outputs": [
    {
     "data": {
      "image/svg+xml": [
       "<svg baseProfile=\"full\" height=\"200\" version=\"1.1\" width=\"1000\" xmlns=\"http://www.w3.org/2000/svg\" xmlns:ev=\"http://www.w3.org/2001/xml-events\" xmlns:xlink=\"http://www.w3.org/1999/xlink\"><defs /><polygon fill=\"#FF0000\" opacity=\"0.7\" points=\"0.0,0.0 100.0,0.0 100.0,100.0 0.0,100.0\" stroke=\"#000000\" /><polygon fill=\"#FF0000\" opacity=\"0.7\" points=\"48.18019484660536,-5.113519212621512 135.1135192126215,18.180194846605357 111.81980515339464,105.11351921262151 24.88648078737849,81.81980515339464\" stroke=\"#000000\" /><polygon fill=\"#FF0000\" opacity=\"0.7\" points=\"95.17597114673023,-5.324028853269766 165.32402885326977,35.175971146730234 124.82402885326977,105.32402885326977 54.675971146730234,64.82402885326977\" stroke=\"#000000\" /><polygon fill=\"#FF0000\" opacity=\"0.7\" points=\"140.0,-1.5480843484993159 191.54808434849932,50.0 140.0,101.54808434849932 88.45191565150068,50.0\" stroke=\"#000000\" /><polygon fill=\"#FF0000\" opacity=\"0.7\" points=\"182.0074633711485,5.18753662885149 214.8124633711485,62.0074633711485 157.9925366288515,94.81246337114851 125.18753662885149,37.9925366288515\" stroke=\"#000000\" /><polygon fill=\"#FF0000\" opacity=\"0.7\" points=\"220.87697416114221,13.840020044599022 236.15997995540098,70.87697416114221 179.12302583885779,86.15997995540098 163.84002004459902,29.123025838857785\" stroke=\"#000000\" /><polygon fill=\"#FF0000\" opacity=\"0.7\" points=\"256.57205,23.427949999999996 256.57205,76.57205 203.42795,76.57205 203.42795,23.427949999999996\" stroke=\"#000000\" /><polygon fill=\"#FF0000\" opacity=\"0.7\" points=\"289.2895837638748,33.08965092947479 276.9103490705252,79.28958376387479 230.7104162361252,66.9103490705252 243.0896509294748,20.710416236125212\" stroke=\"#000000\" /><polygon fill=\"#FF0000\" opacity=\"0.7\" points=\"319.40145721781056,42.12190328218945 297.87809671781054,79.40145721781055 260.59854278218944,57.87809671781055 282.12190328218946,20.598542782189458\" stroke=\"#000000\" /><polygon fill=\"#FF0000\" opacity=\"0.7\" points=\"347.3947654942508,50.0 320.0,77.39476549425083 292.6052345057492,50.0 320.0,22.60523450574917\" stroke=\"#000000\" /><polygon fill=\"#FF0000\" opacity=\"0.7\" points=\"373.81518034642653,56.38125834142653 343.61874165857347,73.81518034642654 326.18481965357347,43.61874165857347 356.38125834142653,26.184819653573456\" stroke=\"#000000\" /><polygon fill=\"#FF0000\" opacity=\"0.7\" points=\"399.21689590747826,61.094880025171584 368.90511997482844,69.21689590747826 360.78310409252174,38.905119974828416 391.09488002517156,30.783104092521747\" stroke=\"#000000\" /><polygon fill=\"#FF0000\" opacity=\"0.7\" points=\"424.12147682405003,64.12147682405 395.87852317595,64.12147682405 395.87852317594997,35.878523175949994 424.12147682405,35.878523175949994\" stroke=\"#000000\" /><polygon fill=\"#FF0000\" opacity=\"0.7\" points=\"448.986852820389,65.56568568505739 424.43431431494264,58.98685282038899 431.013147179611,34.43431431494262 455.56568568505736,41.01314717961101\" stroke=\"#000000\" /><polygon fill=\"#FF0000\" opacity=\"0.7\" points=\"474.18674359780994,65.62513982529046 454.37486017470957,54.18674359780996 465.81325640219006,34.374860174709546 485.62513982529043,45.81325640219004\" stroke=\"#000000\" /><polygon fill=\"#FF0000\" opacity=\"0.7\" points=\"500.0,64.55870156903016 485.4412984309698,50.00000000000001 500.0,35.44129843096984 514.5587015690302,49.99999999999999\" stroke=\"#000000\" /><polygon fill=\"#FF0000\" opacity=\"0.7\" points=\"526.6087376857739,62.65636325848527 517.3436367415147,46.608737685773946 533.3912623142261,37.34363674151473 542.6563632584853,53.391262314226054\" stroke=\"#000000\" /><polygon fill=\"#FF0000\" opacity=\"0.7\" points=\"554.1037258645428,60.21264637796616 549.7873536220338,44.103725864542795 565.8962741354572,39.78735362203384 570.2126463779662,55.896274135457205\" stroke=\"#000000\" /><polygon fill=\"#FF0000\" opacity=\"0.7\" points=\"582.4952682351501,57.504731764849964 582.4952682351501,42.49526823515004 597.5047317648499,42.495268235150036 597.5047317648499,57.50473176484996\" stroke=\"#000000\" /><polygon fill=\"#FF0000\" opacity=\"0.7\" points=\"611.7277564338474,54.77598204972035 615.2240179502796,41.72775643384742 628.2722435661526,45.22401795027965 624.7759820497204,58.27224356615258\" stroke=\"#000000\" /></svg>"
      ],
      "text/plain": [
       "<svgwrite.drawing.Drawing at 0x7fe86cd9e770>"
      ]
     },
     "metadata": {},
     "output_type": "display_data"
    }
   ],
   "source": [
    "dessin = svgwrite.Drawing('assets/question6.svg', size=(1000,200))\n",
    "\n",
    "x, y = (0,0)\n",
    "size = 100\n",
    "\n",
    "carre=[\n",
    "    (x,y),\n",
    "    (size,x),\n",
    "    (size,size),\n",
    "    (y,size)\n",
    "  ]\n",
    "\n",
    "nb = 20\n",
    "rotation = math.pi/12\n",
    "decalage = 30\n",
    "\n",
    "centre_x = size / 2\n",
    "centre_y = size / 2\n",
    "\n",
    "for i in range(nb):\n",
    "    # ! Rotation indépendante\n",
    "    matRot = Matrotation(rotation * i)\n",
    "    # ! Dilatation indépendante\n",
    "    matDil = Matdilatation(0.9 ** i)\n",
    "    # ! Produit des matrices\n",
    "    matFinal = prodMatMat(matRot, matDil)\n",
    "    # ! Translations\n",
    "    x_translation = centre_x + (i * decalage)\n",
    "    y_translation = centre_y\n",
    "    carre_out = [\n",
    "        translater(prodMatVect(matFinal, translater(sommet, (-centre_x, -centre_y))), (x_translation, y_translation)) for sommet in carre] \n",
    "    dessin.add(dessin.polygon(carre_out, fill='#FF0000', stroke=\"#000000\", opacity=0.7))\n",
    "\n",
    "dessin.save()\n",
    "display(dessin)"
   ]
  },
  {
   "cell_type": "code",
   "execution_count": 145,
   "metadata": {},
   "outputs": [
    {
     "data": {
      "image/svg+xml": [
       "<svg baseProfile=\"full\" height=\"200\" version=\"1.1\" width=\"1000\" xmlns=\"http://www.w3.org/2000/svg\" xmlns:ev=\"http://www.w3.org/2001/xml-events\" xmlns:xlink=\"http://www.w3.org/1999/xlink\"><defs /><polygon fill=\"blue\" opacity=\"0.5\" points=\"100,100 -100,100 -100,-100\" stroke=\"black\" /><polygon fill=\"blue\" opacity=\"0.5\" points=\"100,100 -100,-100 100,-100\" stroke=\"black\" /></svg>"
      ],
      "text/plain": [
       "<svgwrite.drawing.Drawing at 0x7fe86cd9fcd0>"
      ]
     },
     "metadata": {},
     "output_type": "display_data"
    }
   ],
   "source": [
    "dessin = svgwrite.Drawing('assets/question7.svg', size=(1000,200))\n",
    "\n",
    "aux=100\n",
    "points=[(aux, aux),(-aux, aux),(-aux, -aux),(aux, -aux)]\n",
    "triangles=[0,1,2,0,2,3]\n",
    "\n",
    "i=0\n",
    "dessin.add(dessin.polygon((points[triangles[3*i]],points[triangles[3*i+1]],points[triangles[3*i+2]]), fill='blue',  opacity=0.5,stroke='black'))\n",
    "i=1\n",
    "dessin.add(dessin.polygon((points[triangles[3*i]],points[triangles[3*i+1]],points[triangles[3*i+2]]), fill='blue',  opacity=0.5,stroke='black'))\n",
    "\n",
    "dessin.save()\n",
    "display(dessin)"
   ]
  },
  {
   "cell_type": "code",
   "execution_count": 150,
   "metadata": {},
   "outputs": [
    {
     "data": {
      "image/svg+xml": [
       "<svg baseProfile=\"full\" height=\"200\" version=\"1.1\" width=\"1000\" xmlns=\"http://www.w3.org/2000/svg\" xmlns:ev=\"http://www.w3.org/2001/xml-events\" xmlns:xlink=\"http://www.w3.org/1999/xlink\"><defs /><polygon fill=\"blue\" opacity=\"0.5\" points=\"100,100 -100,100 -100,-100\" stroke=\"black\" /><polygon fill=\"blue\" opacity=\"0.5\" points=\"100,100 -100,-100 100,-100\" stroke=\"black\" /></svg>"
      ],
      "text/plain": [
       "<svgwrite.drawing.Drawing at 0x7fe8635bd480>"
      ]
     },
     "metadata": {},
     "output_type": "display_data"
    }
   ],
   "source": [
    "dessin = svgwrite.Drawing('assets/question8.svg', size=(1000,200))\n",
    "\n",
    "aux=100\n",
    "points=[(aux, aux),(-aux, aux),(-aux, -aux),(aux, -aux)]\n",
    "triangles=[0,1,2,0,2,3]\n",
    "\n",
    "new_points = points\n",
    "\n",
    "# trans = (100, 100)\n",
    "# new_points = [translater(sommet, trans) for sommet in points]\n",
    "\n",
    "i=0\n",
    "dessin.add(dessin.polygon((new_points[triangles[3*i]],new_points[triangles[3*i+1]],new_points[triangles[3*i+2]]), fill='blue',  opacity=0.5,stroke='black'))\n",
    "i=1\n",
    "dessin.add(dessin.polygon((new_points[triangles[3*i]],new_points[triangles[3*i+1]],new_points[triangles[3*i+2]]), fill='blue',  opacity=0.5,stroke='black'))\n",
    "\n",
    "dessin.save()\n",
    "display(dessin)"
   ]
  }
 ],
 "metadata": {
  "kernelspec": {
   "display_name": "Python 3",
   "language": "python",
   "name": "python3"
  },
  "language_info": {
   "codemirror_mode": {
    "name": "ipython",
    "version": 3
   },
   "file_extension": ".py",
   "mimetype": "text/x-python",
   "name": "python",
   "nbconvert_exporter": "python",
   "pygments_lexer": "ipython3",
   "version": "3.10.12"
  }
 },
 "nbformat": 4,
 "nbformat_minor": 2
}
